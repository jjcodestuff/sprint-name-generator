{
 "cells": [
  {
   "cell_type": "code",
   "execution_count": 5,
   "metadata": {},
   "outputs": [],
   "source": [
    "import random"
   ]
  },
  {
   "cell_type": "code",
   "execution_count": 14,
   "metadata": {},
   "outputs": [],
   "source": [
    "def getWords(letter):\n",
    "    AdjectivesList = open('adjective2.txt').read().splitlines()\n",
    "    AnimalList = open('animals.txt').read().splitlines()\n",
    "    adjective = []\n",
    "    animal = []\n",
    "    for n in AnimalList:\n",
    "        if n[0] == letter:\n",
    "            animal.append(n)\n",
    "    for z in AdjectivesList:\n",
    "        if z[0] == letter:\n",
    "            adjective.append(z)\n",
    "    print('Your sprint name is : ',random.choice(adjective).title(),random.choice(animal).title())"
   ]
  },
  {
   "cell_type": "code",
   "execution_count": 15,
   "metadata": {},
   "outputs": [
    {
     "name": "stdout",
     "output_type": "stream",
     "text": [
      "Your sprint name is :  Elflike  Elephant\n"
     ]
    }
   ],
   "source": [
    "getWords('e')"
   ]
  },
  {
   "cell_type": "code",
   "execution_count": null,
   "metadata": {},
   "outputs": [],
   "source": []
  }
 ],
 "metadata": {
  "kernelspec": {
   "display_name": "Python 3",
   "language": "python",
   "name": "python3"
  },
  "language_info": {
   "codemirror_mode": {
    "name": "ipython",
    "version": 3
   },
   "file_extension": ".py",
   "mimetype": "text/x-python",
   "name": "python",
   "nbconvert_exporter": "python",
   "pygments_lexer": "ipython3",
   "version": "3.7.3"
  }
 },
 "nbformat": 4,
 "nbformat_minor": 2
}
